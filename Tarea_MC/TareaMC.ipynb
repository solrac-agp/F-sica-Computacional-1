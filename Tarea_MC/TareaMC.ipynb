{
 "cells": [
  {
   "cell_type": "markdown",
   "metadata": {},
   "source": [
    "# Tarea Integración MonteCarlo\n",
    "## Carlos Andrés Granada Palacio. C.C: 1152468543\n",
    "\n",
    "Uno de los métodos de integración de tipo MonteCarlo se basa en aquel resultado del cálculo integral que nos dice que se puede computar el valor medio de una función integrable en un intervalo usando su integral en dicho intervalo, más específicamente:\n",
    "\n",
    "$$f_{av} = \\frac{1}{b-a} \\int_a^b dx \\ f(x)$$\n",
    "\n",
    "Donde $f_{av}$ denota el promedio de $f$ en el intervalo $(a, b)$. Un vistazo distinto a este resultado nos dice que con el valor promedio de una función en un intervalo podemos calcular su integral en este intervalo. Luego, si podemos estimar el valor promedio de una función entonces podemos estimar su integral. Una manera de estimar el valor promedio de esta función es generando número aleatorios $(x_n)_{n=1}^N$ en el intervalo, calcular su imagen bajo la función y calcular el promedio de las imagenes:\n",
    "\n",
    "$$f_{av} \\approx \\frac{1}{N} \\sum_{n=1}^{N} f(x_n)$$\n",
    "\n",
    "De esta manera se puede obtener un estimativo del valor de la integral como:\n",
    "\n",
    "$$\\int_a^b dx \\ f(x) \\approx \\frac{b - a}{N} \\sum_{n=1}^{N} f(x_n)$$\n",
    "\n",
    "Como es de esperarse, cuantos más números aleatorios se tengan en cuenta, mejor va a ser la estimación del promedio y por lo tanto la estimación de la integral. \n",
    "\n",
    "Como se describe en [https://www.ias.ac.in/article/fulltext/reso/019/08/0713-0739], el error en este método puede ser mejorado si se cambia de variable de integración a una distribución $g(x)$ normalizada, tal que:\n",
    "\n",
    "$$I = \\int_a^b dx \\ f(x) = \\int_a^b g(x) \\ dx \\ \\frac{f(x)}{g(x)} = \\int_a^b dG \\ \\frac{f(x)}{g(x)}$$\n",
    "\n",
    "$$G(x) = \\int_a^x dt \\ g(t)$$\n",
    "\n",
    "Donde esta cumple:\n",
    "\n",
    "$$\\frac{f(x)}{g(x)} \\approx k$$\n",
    "\n",
    "Donde $k$ es una constante."
   ]
  },
  {
   "cell_type": "markdown",
   "metadata": {},
   "source": [
    "En lo que sigue se buscará implementar este razonamiento para calcular:\n",
    "\n",
    "$$I_1 = \\int_0^{10} dx \\ (x^2 - 4)$$\n",
    "$$I_2 = \\int_{0.5}^{1.7} dx \\ \\sin^2x$$\n",
    "\n",
    "Utilizando como funciones de distribucion a curvas gaussianas. Debido a que es díficil ver a ojo que párametros de la gaussiana la hacen cumplir la condición de que el cociente de la función entre esta es aproximadamente constante, se optará por utilizar un ajuste de párametros que hagan que esta gaussiana tenga la misma forma que la función a integrar. Para poder hacer esta comparación se reescala la función para que la gaussiana no tenga dificultad en ajustarse."
   ]
  },
  {
   "cell_type": "code",
   "execution_count": 134,
   "metadata": {},
   "outputs": [
    {
     "data": {
      "image/png": "[encoded data removed]",
      "text/plain": [
       "<Figure size 432x288 with 1 Axes>"
      ]
     },
     "metadata": {
      "needs_background": "light"
     },
     "output_type": "display_data"
    }
   ],
   "source": [
    "from matplotlib import pyplot as plt\n",
    "import numpy as np\n",
    "from scipy.optimize import curve_fit\n",
    "from scipy.stats import norm\n",
    "\n",
    "\n",
    "def NormDist(x,m,s):\n",
    "    return norm.pdf(x,m,s)\n",
    "\n",
    "def f(x):\n",
    "    return ((x**2) - 4)/1000       #Se escala la función como se mencionó         \n",
    "\n",
    "X=np.linspace(0,10,1000)\n",
    "val, cov  = curve_fit(NormDist,X,f(X))\n",
    "\n",
    "\n",
    "plt.plot(X,f(X))\n",
    "plt.plot(X,NormDist(X,val[0],val[1]))\n",
    "plt.grid()\n",
    "plt.show()"
   ]
  },
  {
   "cell_type": "code",
   "execution_count": 135,
   "metadata": {},
   "outputs": [
    {
     "name": "stdout",
     "output_type": "stream",
     "text": [
      "292.48705581200016\n"
     ]
    }
   ],
   "source": [
    "import random\n",
    "\n",
    "N=1000000 \n",
    "\n",
    "r=np.random.normal(val[0],val[1],N)  #Generamos los números aleatorios de acuerdo a la distribución\n",
    "r=r[(r >= 0)&(r <= 10)]              #Seleccionamos aquellos en el intervalo de interés\n",
    "\n",
    "J =(np.sum(f(r)/NormDist(r,*val)))*1000  #Se multiplica por 1000 porque la función que teníamos está dividida entre \n",
    "                                         #1000\n",
    "I = J/N\n",
    "print(I)"
   ]
  },
  {
   "cell_type": "code",
   "execution_count": 158,
   "metadata": {},
   "outputs": [
    {
     "data": {
      "image/png": "[encoded data removed]",
      "text/plain": [
       "<Figure size 432x288 with 1 Axes>"
      ]
     },
     "metadata": {
      "needs_background": "light"
     },
     "output_type": "display_data"
    }
   ],
   "source": [
    "def s(x):\n",
    "    return ((np.sin(x))**2)*0.6      #Se reescala    \n",
    " \n",
    "def NormDist(x,m,s):\n",
    "    return norm.pdf(x,m,s)\n",
    "\n",
    "X = np.linspace(0.5,1.7,1000)\n",
    "\n",
    "valo, cov  = curve_fit(NormDist,X,s(X))\n",
    "\n",
    "plt.plot(X,s(X))\n",
    "plt.plot(X,NormDist(X,valo[0],valo[1]))\n",
    "plt.grid()\n",
    "plt.show()"
   ]
  },
  {
   "cell_type": "code",
   "execution_count": 165,
   "metadata": {},
   "outputs": [
    {
     "name": "stdout",
     "output_type": "stream",
     "text": [
      "0.8660009598332591\n"
     ]
    }
   ],
   "source": [
    "import random\n",
    "\n",
    "N=1000000\n",
    "\n",
    "J = 0\n",
    "#15 números aleatorios entre 0 y 10\n",
    "\n",
    "r=np.random.normal(val[0],val[1],N)\n",
    "r=r[(r >= 0.5)&(r <= 1.7)]\n",
    "\n",
    "J =(np.sum(s(r)/NormDist(r,*val)))/0.6        #Se quita el reescalamiento\n",
    "I = J/N\n",
    "print(I)\n"
   ]
  },
  {
   "cell_type": "markdown",
   "metadata": {},
   "source": [
    "Se ha obtenido:\n",
    "\n",
    "$$I_1 = 292.487$$\n",
    "$$I_2 = 0.8660$$\n",
    "\n",
    "Los cuales son buenos resultados teniendo en cuenta que sus valores más precisos, teniendo en cuenta cálculos exactos (almenos simbolicamente)\n",
    "\n",
    "$$I_{1 \\ \\text{exacto}} = 293.33333$$\n",
    "$$I_{2 \\ \\text{exacto}} = 0.87425$$"
   ]
  },
  {
   "cell_type": "code",
   "execution_count": null,
   "metadata": {},
   "outputs": [],
   "source": []
  }
 ],
 "metadata": {
  "kernelspec": {
   "display_name": "Python 3",
   "language": "python",
   "name": "python3"
  },
  "language_info": {
   "codemirror_mode": {
    "name": "ipython",
    "version": 3
   },
   "file_extension": ".py",
   "mimetype": "text/x-python",
   "name": "python",
   "nbconvert_exporter": "python",
   "pygments_lexer": "ipython3",
   "version": "3.7.0"
  }
 },
 "nbformat": 4,
 "nbformat_minor": 2
}
